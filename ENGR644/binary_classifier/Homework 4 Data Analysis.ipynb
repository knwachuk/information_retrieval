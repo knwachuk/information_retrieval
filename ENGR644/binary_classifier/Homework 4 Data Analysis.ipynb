{
 "cells": [
  {
   "cell_type": "markdown",
   "metadata": {},
   "source": [
    "http://scikit-learn.org/stable/tutorial/text_analytics/working_with_text_data.html"
   ]
  },
  {
   "cell_type": "code",
   "execution_count": 23,
   "metadata": {},
   "outputs": [],
   "source": [
    "from __future__ import print_function\n",
    "import tensorflow as tf\n",
    "import numpy as np\n",
    "from six.moves import cPickle as pickle\n",
    "from six.moves import range\n",
    "\n",
    "import pandas as pd\n",
    "import string"
   ]
  },
  {
   "cell_type": "code",
   "execution_count": 5,
   "metadata": {
    "collapsed": true
   },
   "outputs": [],
   "source": [
    "column_names = ['Assessment', 'Docid', 'Title', 'Authors', 'Journal',\n",
    "                'ISSN', 'Year', 'Language', 'Abstract', 'Keywords']"
   ]
  },
  {
   "cell_type": "code",
   "execution_count": 38,
   "metadata": {
    "collapsed": true
   },
   "outputs": [],
   "source": [
    "df_dev = pd.read_csv('phase1.dev.shuf.tsv', sep='\\t', names=column_names)"
   ]
  },
  {
   "cell_type": "code",
   "execution_count": 40,
   "metadata": {},
   "outputs": [
    {
     "data": {
      "text/html": [
       "<div>\n",
       "<style>\n",
       "    .dataframe thead tr:only-child th {\n",
       "        text-align: right;\n",
       "    }\n",
       "\n",
       "    .dataframe thead th {\n",
       "        text-align: left;\n",
       "    }\n",
       "\n",
       "    .dataframe tbody tr th {\n",
       "        vertical-align: top;\n",
       "    }\n",
       "</style>\n",
       "<table border=\"1\" class=\"dataframe\">\n",
       "  <thead>\n",
       "    <tr style=\"text-align: right;\">\n",
       "      <th></th>\n",
       "      <th>Assessment</th>\n",
       "      <th>Docid</th>\n",
       "      <th>Title</th>\n",
       "      <th>Authors</th>\n",
       "      <th>Journal</th>\n",
       "      <th>ISSN</th>\n",
       "      <th>Year</th>\n",
       "      <th>Language</th>\n",
       "      <th>Abstract</th>\n",
       "      <th>Keywords</th>\n",
       "    </tr>\n",
       "  </thead>\n",
       "  <tbody>\n",
       "    <tr>\n",
       "      <th>0</th>\n",
       "      <td>-1</td>\n",
       "      <td>hash:3f1ebe70-a242-3b43-843c-eef89284607a</td>\n",
       "      <td>Misoprostol for treating postpartum haemorrhag...</td>\n",
       "      <td>Hofmeyr, G. J.;Ferreira, S.;Nikodem, V. C.;Man...</td>\n",
       "      <td>BMC Pregnancy and Childbirth</td>\n",
       "      <td>1471-2393</td>\n",
       "      <td>2004</td>\n",
       "      <td>eng</td>\n",
       "      <td>Background: Postpartum haemorrhage remains an ...</td>\n",
       "      <td>South Africa;adult;article;blood transfusion;c...</td>\n",
       "    </tr>\n",
       "    <tr>\n",
       "      <th>1</th>\n",
       "      <td>-1</td>\n",
       "      <td>hash:aa35378f-0460-37f1-b001-ac735e027333</td>\n",
       "      <td>Vitamin A supplements and diarrheal and respir...</td>\n",
       "      <td>Fawzi, W. W.;Mbise, R.;Spiegelman, D.;Fataki, ...</td>\n",
       "      <td>J Pediatr</td>\n",
       "      <td>0022-3476</td>\n",
       "      <td>2000</td>\n",
       "      <td>eng</td>\n",
       "      <td>OBJECTIVE: To determine the effect of vitamin ...</td>\n",
       "      <td>Child, Preschool;Diarrhea/ epidemiology;Dietar...</td>\n",
       "    </tr>\n",
       "    <tr>\n",
       "      <th>2</th>\n",
       "      <td>-1</td>\n",
       "      <td>hash:3ddd7e14-a607-3313-a74f-613c988206f3</td>\n",
       "      <td>The efficacy and safety of a controlled releas...</td>\n",
       "      <td>Gathua, S. N.;Aluoch, J. A.</td>\n",
       "      <td>East Afr Med J</td>\n",
       "      <td>NaN</td>\n",
       "      <td>1990</td>\n",
       "      <td>eng</td>\n",
       "      <td>The treatment of asthma in Africa is influence...</td>\n",
       "      <td>Adult;Albuterol/administration &amp; dosage/advers...</td>\n",
       "    </tr>\n",
       "    <tr>\n",
       "      <th>3</th>\n",
       "      <td>-1</td>\n",
       "      <td>hash:41e91fb1-6cfe-3347-aa26-4424e0afe11e</td>\n",
       "      <td>The state of the art of education for child su...</td>\n",
       "      <td>Mrisho, F. H.</td>\n",
       "      <td>BERC Bull</td>\n",
       "      <td>NaN</td>\n",
       "      <td>1987</td>\n",
       "      <td>eng</td>\n",
       "      <td>PIP: Tanzania has both a high infant mortality...</td>\n",
       "      <td>Africa;Africa South of the Sahara;Africa, East...</td>\n",
       "    </tr>\n",
       "    <tr>\n",
       "      <th>4</th>\n",
       "      <td>-1</td>\n",
       "      <td>hash:92d8601c-ef4f-39b1-b65c-ce1c7325ba6f</td>\n",
       "      <td>[The practicability of preceptorship in the cu...</td>\n",
       "      <td>Lin, C. C.;Lo, K. M.;Leu, C. S.</td>\n",
       "      <td>Kaohsiung J Med Sci</td>\n",
       "      <td>NaN</td>\n",
       "      <td>1996</td>\n",
       "      <td>eng</td>\n",
       "      <td>Physicians who have graduated from traditional...</td>\n",
       "      <td>Adult;Aged;Curriculum;Education, Medical;Engli...</td>\n",
       "    </tr>\n",
       "  </tbody>\n",
       "</table>\n",
       "</div>"
      ],
      "text/plain": [
       "   Assessment                                      Docid  \\\n",
       "0          -1  hash:3f1ebe70-a242-3b43-843c-eef89284607a   \n",
       "1          -1  hash:aa35378f-0460-37f1-b001-ac735e027333   \n",
       "2          -1  hash:3ddd7e14-a607-3313-a74f-613c988206f3   \n",
       "3          -1  hash:41e91fb1-6cfe-3347-aa26-4424e0afe11e   \n",
       "4          -1  hash:92d8601c-ef4f-39b1-b65c-ce1c7325ba6f   \n",
       "\n",
       "                                               Title  \\\n",
       "0  Misoprostol for treating postpartum haemorrhag...   \n",
       "1  Vitamin A supplements and diarrheal and respir...   \n",
       "2  The efficacy and safety of a controlled releas...   \n",
       "3  The state of the art of education for child su...   \n",
       "4  [The practicability of preceptorship in the cu...   \n",
       "\n",
       "                                             Authors  \\\n",
       "0  Hofmeyr, G. J.;Ferreira, S.;Nikodem, V. C.;Man...   \n",
       "1  Fawzi, W. W.;Mbise, R.;Spiegelman, D.;Fataki, ...   \n",
       "2                        Gathua, S. N.;Aluoch, J. A.   \n",
       "3                                      Mrisho, F. H.   \n",
       "4                    Lin, C. C.;Lo, K. M.;Leu, C. S.   \n",
       "\n",
       "                        Journal       ISSN  Year Language  \\\n",
       "0  BMC Pregnancy and Childbirth  1471-2393  2004      eng   \n",
       "1                     J Pediatr  0022-3476  2000      eng   \n",
       "2                East Afr Med J        NaN  1990      eng   \n",
       "3                     BERC Bull        NaN  1987      eng   \n",
       "4           Kaohsiung J Med Sci        NaN  1996      eng   \n",
       "\n",
       "                                            Abstract  \\\n",
       "0  Background: Postpartum haemorrhage remains an ...   \n",
       "1  OBJECTIVE: To determine the effect of vitamin ...   \n",
       "2  The treatment of asthma in Africa is influence...   \n",
       "3  PIP: Tanzania has both a high infant mortality...   \n",
       "4  Physicians who have graduated from traditional...   \n",
       "\n",
       "                                            Keywords  \n",
       "0  South Africa;adult;article;blood transfusion;c...  \n",
       "1  Child, Preschool;Diarrhea/ epidemiology;Dietar...  \n",
       "2  Adult;Albuterol/administration & dosage/advers...  \n",
       "3  Africa;Africa South of the Sahara;Africa, East...  \n",
       "4  Adult;Aged;Curriculum;Education, Medical;Engli...  "
      ]
     },
     "execution_count": 40,
     "metadata": {},
     "output_type": "execute_result"
    }
   ],
   "source": [
    "df_train = pd.read_csv('phase1.train.shuf.tsv', sep='\\t', names=column_names)\n",
    "df_train.head()"
   ]
  },
  {
   "cell_type": "code",
   "execution_count": 41,
   "metadata": {},
   "outputs": [
    {
     "data": {
      "text/plain": [
       "Assessment    21662\n",
       "Docid         21662\n",
       "Title         21662\n",
       "Authors       21250\n",
       "Journal       20837\n",
       "ISSN          13422\n",
       "Year          20981\n",
       "Language      21661\n",
       "Abstract      21661\n",
       "Keywords      20912\n",
       "dtype: int64"
      ]
     },
     "execution_count": 41,
     "metadata": {},
     "output_type": "execute_result"
    }
   ],
   "source": [
    "df_train.count()"
   ]
  },
  {
   "cell_type": "markdown",
   "metadata": {},
   "source": [
    "## Extracting features from text files"
   ]
  },
  {
   "cell_type": "markdown",
   "metadata": {},
   "source": [
    "#### Bags of words ?"
   ]
  },
  {
   "cell_type": "markdown",
   "metadata": {},
   "source": [
    "#### Tokenizing text with `scikit-learn`"
   ]
  },
  {
   "cell_type": "code",
   "execution_count": 32,
   "metadata": {
    "collapsed": true
   },
   "outputs": [],
   "source": [
    "from sklearn.feature_extraction.text import CountVectorizer"
   ]
  },
  {
   "cell_type": "markdown",
   "metadata": {},
   "source": [
    "Text preprocessing, tokenizing and filtering of stopwords are included in a high level componenent that is able to build a dictionary of features and transform document to feature vectors:"
   ]
  },
  {
   "cell_type": "code",
   "execution_count": 42,
   "metadata": {
    "collapsed": true
   },
   "outputs": [],
   "source": [
    "count_vect = CountVectorizer()\n",
    "X_train_counts = count_vect.fit_transform(df_train['Title'])"
   ]
  },
  {
   "cell_type": "code",
   "execution_count": 43,
   "metadata": {},
   "outputs": [
    {
     "data": {
      "text/plain": [
       "<21662x17410 sparse matrix of type '<type 'numpy.int64'>'\n",
       "\twith 262030 stored elements in Compressed Sparse Row format>"
      ]
     },
     "execution_count": 43,
     "metadata": {},
     "output_type": "execute_result"
    }
   ],
   "source": [
    "X_train_counts"
   ]
  },
  {
   "cell_type": "markdown",
   "metadata": {},
   "source": [
    "#### From occurrences to frequencies"
   ]
  },
  {
   "cell_type": "code",
   "execution_count": 33,
   "metadata": {
    "collapsed": true
   },
   "outputs": [],
   "source": [
    "from sklearn.feature_extraction.text import TfidfTransformer"
   ]
  },
  {
   "cell_type": "code",
   "execution_count": 44,
   "metadata": {},
   "outputs": [
    {
     "data": {
      "text/plain": [
       "(21662, 17410)"
      ]
     },
     "execution_count": 44,
     "metadata": {},
     "output_type": "execute_result"
    }
   ],
   "source": [
    "tf_transformer = TfidfTransformer(use_idf=False).fit(X_train_counts)\n",
    "X_train_tf = tf_transformer.transform(X_train_counts)\n",
    "X_train_tf.shape"
   ]
  },
  {
   "cell_type": "code",
   "execution_count": 45,
   "metadata": {},
   "outputs": [
    {
     "data": {
      "text/plain": [
       "(21662, 17410)"
      ]
     },
     "execution_count": 45,
     "metadata": {},
     "output_type": "execute_result"
    }
   ],
   "source": [
    "tfidf_transformer = TfidfTransformer()\n",
    "X_train_tfidf = tfidf_transformer.fit_transform(X_train_counts)\n",
    "X_train_tfidf.shape"
   ]
  },
  {
   "cell_type": "markdown",
   "metadata": {},
   "source": [
    "## Training a classifier"
   ]
  },
  {
   "cell_type": "code",
   "execution_count": 36,
   "metadata": {
    "collapsed": true
   },
   "outputs": [],
   "source": [
    "from sklearn.naive_bayes import MultinomialNB"
   ]
  },
  {
   "cell_type": "code",
   "execution_count": 46,
   "metadata": {},
   "outputs": [],
   "source": [
    "clf = MultinomialNB().fit(X_train_tfidf, df_train['Assessment'])"
   ]
  },
  {
   "cell_type": "markdown",
   "metadata": {},
   "source": [
    "To try to predict the outcome on a new document, we need to extract the features using almost the same feature extracting chain as before. The differenceis that we call `transform` instead of `fit_transform` on the transformers, since they have already been fit to the training set:"
   ]
  },
  {
   "cell_type": "code",
   "execution_count": 54,
   "metadata": {},
   "outputs": [
    {
     "data": {
      "text/plain": [
       "array([-1, -1, -1, ..., -1, -1, -1])"
      ]
     },
     "execution_count": 54,
     "metadata": {},
     "output_type": "execute_result"
    }
   ],
   "source": [
    "X_dev_counts = count_vect.transform(df_dev['Title'])\n",
    "X_dev_tfidf = tfidf_transformer.transform(X_dev_counts)\n",
    "\n",
    "predicted = clf.predict(X_dev_tfidf)\n",
    "predicted"
   ]
  },
  {
   "cell_type": "code",
   "execution_count": 53,
   "metadata": {},
   "outputs": [
    {
     "data": {
      "text/html": [
       "<div>\n",
       "<style>\n",
       "    .dataframe thead tr:only-child th {\n",
       "        text-align: right;\n",
       "    }\n",
       "\n",
       "    .dataframe thead th {\n",
       "        text-align: left;\n",
       "    }\n",
       "\n",
       "    .dataframe tbody tr th {\n",
       "        vertical-align: top;\n",
       "    }\n",
       "</style>\n",
       "<table border=\"1\" class=\"dataframe\">\n",
       "  <thead>\n",
       "    <tr style=\"text-align: right;\">\n",
       "      <th></th>\n",
       "      <th>Assessment</th>\n",
       "      <th>Docid</th>\n",
       "      <th>Title</th>\n",
       "      <th>Authors</th>\n",
       "      <th>Journal</th>\n",
       "      <th>ISSN</th>\n",
       "      <th>Year</th>\n",
       "      <th>Language</th>\n",
       "      <th>Abstract</th>\n",
       "      <th>Keywords</th>\n",
       "      <th>Predicted Assessment</th>\n",
       "    </tr>\n",
       "  </thead>\n",
       "  <tbody>\n",
       "    <tr>\n",
       "      <th>0</th>\n",
       "      <td>-1</td>\n",
       "      <td>hash:9ef84cbb-2f69-3bdc-872f-b986823fe4cd</td>\n",
       "      <td>Educational needs in patient care practices in...</td>\n",
       "      <td>Seto, W. H.;Ong, S. G.;Ching, T. Y.;Liu, S. H....</td>\n",
       "      <td>Am J Infect Control</td>\n",
       "      <td>0196-6553</td>\n",
       "      <td>1988.0</td>\n",
       "      <td>eng</td>\n",
       "      <td>We conducted a survey on staff perceptions of ...</td>\n",
       "      <td>Cross Infection/ prevention &amp; control;Disinfec...</td>\n",
       "      <td>-1</td>\n",
       "    </tr>\n",
       "    <tr>\n",
       "      <th>1</th>\n",
       "      <td>-1</td>\n",
       "      <td>hash:ee1f7198-f1cf-3ee9-a794-ad7d5c3165be</td>\n",
       "      <td>Methods, equipment and techniques for rural he...</td>\n",
       "      <td>Ramalingaswami, V.</td>\n",
       "      <td>Proc R Soc Lond B Biol Sci</td>\n",
       "      <td>0080-4649 (Print)</td>\n",
       "      <td>1980.0</td>\n",
       "      <td>eng</td>\n",
       "      <td>It is obvious that any strategy for village he...</td>\n",
       "      <td>Community Health Aides/utilization;Delivery of...</td>\n",
       "      <td>-1</td>\n",
       "    </tr>\n",
       "    <tr>\n",
       "      <th>2</th>\n",
       "      <td>-1</td>\n",
       "      <td>hash:4a24e3aa-ebc1-3826-b98c-302815763ede</td>\n",
       "      <td>Limitations in verbal fluency following heavy ...</td>\n",
       "      <td>Patrick, P. D.;Oria, R. B.;Madhavan, V.;Pinker...</td>\n",
       "      <td>Child Neuropsychology</td>\n",
       "      <td>0929-7049</td>\n",
       "      <td>2005.0</td>\n",
       "      <td>eng</td>\n",
       "      <td>The effects of heavy burdens of diarrhea in th...</td>\n",
       "      <td>Brazil;academic achievement;article;breast fee...</td>\n",
       "      <td>-1</td>\n",
       "    </tr>\n",
       "    <tr>\n",
       "      <th>3</th>\n",
       "      <td>-1</td>\n",
       "      <td>hash:e57a42d3-db98-3b5b-b7ad-5b2efb73f76e</td>\n",
       "      <td>Attitude towards rape: a comparative study amo...</td>\n",
       "      <td>Sivagnanam, G.;Bairy, K. L.;D'Souza, U.</td>\n",
       "      <td>Med J Malaysia</td>\n",
       "      <td>NaN</td>\n",
       "      <td>2005.0</td>\n",
       "      <td>eng</td>\n",
       "      <td>The global statistics reveal that at least one...</td>\n",
       "      <td>Adolescent;Adult;Attitude of Health Personnel;...</td>\n",
       "      <td>-1</td>\n",
       "    </tr>\n",
       "    <tr>\n",
       "      <th>4</th>\n",
       "      <td>-1</td>\n",
       "      <td>hash:e2a94bd0-10e9-3ca1-a12f-18705ef15b74</td>\n",
       "      <td>An evaluation of a training workshop for pharm...</td>\n",
       "      <td>Sinclair, H.;Bond, C.;Lennox, S.;Silcock, J.;W...</td>\n",
       "      <td>Health Education Journal 1997 Sep; 56(3): 296-...</td>\n",
       "      <td>NaN</td>\n",
       "      <td>NaN</td>\n",
       "      <td>eng</td>\n",
       "      <td>This paper details part of the findings of a r...</td>\n",
       "      <td>Adult;Audiorecording;Change Theory;Chi Square ...</td>\n",
       "      <td>-1</td>\n",
       "    </tr>\n",
       "  </tbody>\n",
       "</table>\n",
       "</div>"
      ],
      "text/plain": [
       "   Assessment                                      Docid  \\\n",
       "0          -1  hash:9ef84cbb-2f69-3bdc-872f-b986823fe4cd   \n",
       "1          -1  hash:ee1f7198-f1cf-3ee9-a794-ad7d5c3165be   \n",
       "2          -1  hash:4a24e3aa-ebc1-3826-b98c-302815763ede   \n",
       "3          -1  hash:e57a42d3-db98-3b5b-b7ad-5b2efb73f76e   \n",
       "4          -1  hash:e2a94bd0-10e9-3ca1-a12f-18705ef15b74   \n",
       "\n",
       "                                               Title  \\\n",
       "0  Educational needs in patient care practices in...   \n",
       "1  Methods, equipment and techniques for rural he...   \n",
       "2  Limitations in verbal fluency following heavy ...   \n",
       "3  Attitude towards rape: a comparative study amo...   \n",
       "4  An evaluation of a training workshop for pharm...   \n",
       "\n",
       "                                             Authors  \\\n",
       "0  Seto, W. H.;Ong, S. G.;Ching, T. Y.;Liu, S. H....   \n",
       "1                                 Ramalingaswami, V.   \n",
       "2  Patrick, P. D.;Oria, R. B.;Madhavan, V.;Pinker...   \n",
       "3            Sivagnanam, G.;Bairy, K. L.;D'Souza, U.   \n",
       "4  Sinclair, H.;Bond, C.;Lennox, S.;Silcock, J.;W...   \n",
       "\n",
       "                                             Journal               ISSN  \\\n",
       "0                                Am J Infect Control          0196-6553   \n",
       "1                         Proc R Soc Lond B Biol Sci  0080-4649 (Print)   \n",
       "2                              Child Neuropsychology          0929-7049   \n",
       "3                                     Med J Malaysia                NaN   \n",
       "4  Health Education Journal 1997 Sep; 56(3): 296-...                NaN   \n",
       "\n",
       "     Year Language                                           Abstract  \\\n",
       "0  1988.0      eng  We conducted a survey on staff perceptions of ...   \n",
       "1  1980.0      eng  It is obvious that any strategy for village he...   \n",
       "2  2005.0      eng  The effects of heavy burdens of diarrhea in th...   \n",
       "3  2005.0      eng  The global statistics reveal that at least one...   \n",
       "4     NaN      eng  This paper details part of the findings of a r...   \n",
       "\n",
       "                                            Keywords  Predicted Assessment  \n",
       "0  Cross Infection/ prevention & control;Disinfec...                    -1  \n",
       "1  Community Health Aides/utilization;Delivery of...                    -1  \n",
       "2  Brazil;academic achievement;article;breast fee...                    -1  \n",
       "3  Adolescent;Adult;Attitude of Health Personnel;...                    -1  \n",
       "4  Adult;Audiorecording;Change Theory;Chi Square ...                    -1  "
      ]
     },
     "execution_count": 53,
     "metadata": {},
     "output_type": "execute_result"
    }
   ],
   "source": [
    "df_predicted = df_dev\n",
    "df_predicted['Predicted Assessment'] = predicted\n",
    "df_predicted.head()"
   ]
  },
  {
   "cell_type": "code",
   "execution_count": 57,
   "metadata": {},
   "outputs": [
    {
     "data": {
      "text/plain": [
       "Assessment              4700\n",
       "Docid                   4700\n",
       "Title                   4700\n",
       "Authors                 4700\n",
       "Journal                 4535\n",
       "ISSN                    2900\n",
       "Year                    4561\n",
       "Language                4700\n",
       "Abstract                4700\n",
       "Keywords                4543\n",
       "Predicted Assessment    4700\n",
       "dtype: int64"
      ]
     },
     "execution_count": 57,
     "metadata": {},
     "output_type": "execute_result"
    }
   ],
   "source": [
    "df_predicted[df_predicted['Assessment'] == df_predicted['Predicted Assessment']].count()"
   ]
  },
  {
   "cell_type": "markdown",
   "metadata": {},
   "source": [
    "## Evaluation of the performance on the test set"
   ]
  }
 ],
 "metadata": {
  "kernelspec": {
   "display_name": "tensorflow",
   "language": "python",
   "name": "tensorflow"
  },
  "language_info": {
   "codemirror_mode": {
    "name": "ipython",
    "version": 2
   },
   "file_extension": ".py",
   "mimetype": "text/x-python",
   "name": "python",
   "nbconvert_exporter": "python",
   "pygments_lexer": "ipython2",
   "version": "2.7.13"
  }
 },
 "nbformat": 4,
 "nbformat_minor": 2
}
